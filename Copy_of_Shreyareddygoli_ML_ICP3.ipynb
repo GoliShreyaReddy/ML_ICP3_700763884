{
  "nbformat": 4,
  "nbformat_minor": 0,
  "metadata": {
    "colab": {
      "provenance": [],
      "authorship_tag": "ABX9TyNhzFmP/g8sa8c3GSwWQ+ln",
      "include_colab_link": true
    },
    "kernelspec": {
      "name": "python3",
      "display_name": "Python 3"
    },
    "language_info": {
      "name": "python"
    }
  },
  "cells": [
    {
      "cell_type": "markdown",
      "metadata": {
        "id": "view-in-github",
        "colab_type": "text"
      },
      "source": [
        "<a href=\"https://colab.research.google.com/github/GoliShreyaReddy/ML_ICP3_700763884/blob/main/Copy_of_Shreyareddygoli_ML_ICP3.ipynb\" target=\"_parent\"><img src=\"https://colab.research.google.com/assets/colab-badge.svg\" alt=\"Open In Colab\"/></a>"
      ]
    },
    {
      "cell_type": "markdown",
      "source": [
        "a)"
      ],
      "metadata": {
        "id": "h4rkHpN5Pd_w"
      }
    },
    {
      "cell_type": "code",
      "source": [
        "import numpy as np\n",
        "\n",
        "# Step 1: Create a random vector of size 15 with integers in the range 1-20\n",
        "random_vector = np.random.randint(1, 21, size=15)\n",
        "\n",
        "# Step 2: Reshape the array to 3 by 5\n",
        "reshaped_array = random_vector.reshape(3, 5)\n",
        "\n",
        "# Step 3: Print the shape of the reshaped array\n",
        "array_shape = reshaped_array.shape\n",
        "print(f\"Shape of the reshaped array: {array_shape}\")\n",
        "\n",
        "# Step 4: Replace the maximum value in each row by 0\n",
        "for row in reshaped_array:\n",
        "    # Find the maximum value in the row\n",
        "    max_value = row.max()\n",
        "    # Replace the maximum value with 0\n",
        "    row[row == max_value] = 0\n",
        "\n",
        "print(\"Array after replacing the maximum value in each row with 0:\")\n",
        "print(reshaped_array)\n",
        "\n",
        "# Step 5: Create a 2-dimensional array of size 4x3 composed of 4-byte integer elements\n",
        "array_4x3 = np.zeros((4, 3), dtype=np.int32)\n",
        "\n",
        "# Step 6: Print the shape, type, and data type of the 4x3 array\n",
        "shape_4x3 = array_4x3.shape\n",
        "type_4x3 = type(array_4x3)\n",
        "dtype_4x3 = array_4x3.dtype\n",
        "\n",
        "print(f\"Shape of the 4x3 array: {shape_4x3}\")\n",
        "print(f\"Type of the 4x3 array: {type_4x3}\")\n",
        "print(f\"Data type of the 4x3 array: {dtype_4x3}\")\n"
      ],
      "metadata": {
        "colab": {
          "base_uri": "https://localhost:8080/"
        },
        "id": "-gk6i1yEQLgm",
        "outputId": "8cf110b1-8e67-48e9-98fd-e766782d3bf5"
      },
      "execution_count": null,
      "outputs": [
        {
          "output_type": "stream",
          "name": "stdout",
          "text": [
            "Shape of the reshaped array: (3, 5)\n",
            "Array after replacing the maximum value in each row with 0:\n",
            "[[15  1  0  1 12]\n",
            " [ 0  5  8  4 13]\n",
            " [ 6  0  6  8 11]]\n",
            "Shape of the 4x3 array: (4, 3)\n",
            "Type of the 4x3 array: <class 'numpy.ndarray'>\n",
            "Data type of the 4x3 array: int32\n"
          ]
        }
      ]
    },
    {
      "cell_type": "markdown",
      "source": [
        "b)"
      ],
      "metadata": {
        "id": "xbvTZOl9R7ju"
      }
    },
    {
      "cell_type": "code",
      "source": [
        "import numpy as np\n",
        "\n",
        "# Define the square array\n",
        "matrix = np.array([[3, -2],\n",
        "                   [1,  0]])\n",
        "\n",
        "# Compute the eigenvalues and right eigenvectors\n",
        "eigenvalues, eigenvectors = np.linalg.eig(matrix)\n",
        "\n",
        "# Print the eigenvalues and right eigenvectors\n",
        "print(\"Eigenvalues:\")\n",
        "print(eigenvalues)\n",
        "print(\"\\nRight Eigenvectors:\")\n",
        "print(eigenvectors)\n"
      ],
      "metadata": {
        "colab": {
          "base_uri": "https://localhost:8080/"
        },
        "id": "e8-ZA1GMT76b",
        "outputId": "27076a16-7cc0-444a-f711-2205bca3e927"
      },
      "execution_count": null,
      "outputs": [
        {
          "output_type": "stream",
          "name": "stdout",
          "text": [
            "Eigenvalues:\n",
            "[2. 1.]\n",
            "\n",
            "Right Eigenvectors:\n",
            "[[0.89442719 0.70710678]\n",
            " [0.4472136  0.70710678]]\n"
          ]
        }
      ]
    },
    {
      "cell_type": "code",
      "source": [],
      "metadata": {
        "id": "aEDL2GWZX8Fv"
      },
      "execution_count": null,
      "outputs": []
    },
    {
      "cell_type": "markdown",
      "source": [
        "c)"
      ],
      "metadata": {
        "id": "-hqlSL5-UDTa"
      }
    },
    {
      "cell_type": "code",
      "source": [
        "import numpy as np\n",
        "\n",
        "# Define the given array\n",
        "array = np.array([[0, 1, 2],\n",
        "                  [3, 4, 5]])\n",
        "\n",
        "# Extract the diagonal elements\n",
        "diagonal_elements = np.diagonal(array)\n",
        "\n",
        "# Compute the sum of the diagonal elements\n",
        "sum_diagonal = diagonal_elements.sum()\n",
        "\n",
        "# Print the sum of the diagonal elements\n",
        "print(\"Sum of the diagonal elements:\")\n",
        "print(sum_diagonal)\n"
      ],
      "metadata": {
        "colab": {
          "base_uri": "https://localhost:8080/"
        },
        "id": "mnVr78YfUVdH",
        "outputId": "bec403f7-7e57-4bd6-bdee-725c879be1ee"
      },
      "execution_count": null,
      "outputs": [
        {
          "output_type": "stream",
          "name": "stdout",
          "text": [
            "Sum of the diagonal elements:\n",
            "4\n"
          ]
        }
      ]
    },
    {
      "cell_type": "markdown",
      "source": [
        "d)"
      ],
      "metadata": {
        "id": "zT_3RADbX5-j"
      }
    },
    {
      "cell_type": "code",
      "source": [
        "import numpy as np\n",
        "\n",
        "# Define the original array with shape 3x2\n",
        "array_3x2 = np.array([[1, 2],\n",
        "                      [3, 4],\n",
        "                      [5, 6]])\n",
        "\n",
        "# Reshape the array to 2x3\n",
        "array_2x3 = array_3x2.reshape(2, 3)\n",
        "\n",
        "# Print both arrays\n",
        "print(\"Original array (3x2):\")\n",
        "print(array_3x2)\n",
        "\n",
        "print(\"\\nReshaped array (2x3):\")\n",
        "print(array_2x3)\n"
      ],
      "metadata": {
        "colab": {
          "base_uri": "https://localhost:8080/"
        },
        "id": "idHZfSmNamAv",
        "outputId": "caa1c8e0-c882-49d0-9230-f30461e24f67"
      },
      "execution_count": null,
      "outputs": [
        {
          "output_type": "stream",
          "name": "stdout",
          "text": [
            "Original array (3x2):\n",
            "[[1 2]\n",
            " [3 4]\n",
            " [5 6]]\n",
            "\n",
            "Reshaped array (2x3):\n",
            "[[1 2 3]\n",
            " [4 5 6]]\n"
          ]
        }
      ]
    }
  ]
}